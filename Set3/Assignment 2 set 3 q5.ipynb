{
 "cells": [
  {
   "cell_type": "markdown",
   "id": "1a2cc9af",
   "metadata": {},
   "source": [
    "Q5. In January 2005, a company that monitors Internet traffic (WebSideStory) reported that its sampling revealed that the Mozilla Firefox browser launched in 2004 had grabbed a 4.6% share of the market. <br>\n",
    "I. If the sample were based on 2,000 users, could Microsoft conclude that Mozilla has a less than 5% share of the market?<br>\n",
    "II. WebSideStory claims that its sample includes all the daily Internet users. If that’s the case, then can Microsoft conclude that Mozilla has a less than 5% share of the market?"
   ]
  },
  {
   "cell_type": "code",
   "execution_count": 1,
   "id": "debc1551",
   "metadata": {},
   "outputs": [],
   "source": [
    "import numpy as np\n",
    "from scipy import stats\n",
    "from scipy.stats import norm"
   ]
  },
  {
   "cell_type": "markdown",
   "id": "9ccf2ad9",
   "metadata": {},
   "source": [
    "I. If the sample were based on 2,000 users, could Microsoft conclude that Mozilla has a less than 5% share of the market? Now suppose the population proportion share of market by the Mozilla is p = 0.5 then sample proportion share of market by the Mozilla is p̂ = 0.46Assume Null Hypothesis as Ho: p >= 5% market share Thus Alternate Hypothesis as Ha: p < 5% market share"
   ]
  },
  {
   "cell_type": "code",
   "execution_count": 8,
   "id": "cb1fa812",
   "metadata": {},
   "outputs": [
    {
     "data": {
      "text/plain": [
       "-0.820782681668124"
      ]
     },
     "execution_count": 8,
     "metadata": {},
     "output_type": "execute_result"
    }
   ],
   "source": [
    "# Apply One-Sample One-Tail z-test\n",
    "#Calculate z-score or value z_scores = (p̂-p)/√(p(1-p)/n) ...N(0,1)\n",
    "z_scores=(0.046-0.05)/(np.sqrt((0.05*(1-0.05))/2000))\n",
    "z_scores"
   ]
  },
  {
   "cell_type": "code",
   "execution_count": 7,
   "id": "992c3a0d",
   "metadata": {},
   "outputs": [
    {
     "data": {
      "text/plain": [
       "0.20588503245107104"
      ]
     },
     "execution_count": 7,
     "metadata": {},
     "output_type": "execute_result"
    }
   ],
   "source": [
    "# Find Probability assuming null hyposthesis, so as to compare with Type-1 error α = 0.05\n",
    "p_value=1-stats.norm.cdf(abs(z_scores))\n",
    "p_value"
   ]
  },
  {
   "cell_type": "markdown",
   "id": "01ae582c",
   "metadata": {},
   "source": [
    "As (p_value = 0.2058) > (α = 0.05) ; Accept Null Hypothesis i.e. Mozilla market share > 5% Thus, Microsoft can not conclude that Mozilla has a less than 5% share of the marketII. <br>\n",
    "WebSideStory claims that its sample includes all the daily Internet users. If that’s the case, then can Microsoft conclude that Mozilla has a less than 5% share of the market?\n",
    "We are given that WebSideStory claims that its sample includes all the daily Internet users. This means that the 4.6% is the population percentage. Comparing it with Microsoft's claim that Mozilla has a less than 5% share of the whole market is True. Hence, we can conclude that Mozilla has a less than 5% share of the market.\n"
   ]
  }
 ],
 "metadata": {
  "kernelspec": {
   "display_name": "Python 3",
   "language": "python",
   "name": "python3"
  },
  "language_info": {
   "codemirror_mode": {
    "name": "ipython",
    "version": 3
   },
   "file_extension": ".py",
   "mimetype": "text/x-python",
   "name": "python",
   "nbconvert_exporter": "python",
   "pygments_lexer": "ipython3",
   "version": "3.8.8"
  }
 },
 "nbformat": 4,
 "nbformat_minor": 5
}
